{
 "cells": [
  {
   "cell_type": "code",
   "execution_count": 3,
   "metadata": {},
   "outputs": [],
   "source": [
    "#import modules and load the data\n",
    "import pandas as pd\n",
    "import numpy as np\n",
    "import seaborn as sns\n",
    "import matplotlib.pyplot as plt\n",
    "import scipy.stats\n",
    "import statsmodels.formula.api as smf\n",
    "from stargazer.stargazer import Stargazer\n",
    "from IPython.display import HTML\n",
    "from sklearn.model_selection import RepeatedKFold\n",
    "from sklearn.model_selection import cross_val_score\n",
    "from numpy import mean\n",
    "from numpy import absolute\n",
    "from sklearn.linear_model import Lasso\n",
    "from sklearn.linear_model import Ridge\n",
    "from sklearn.preprocessing import MinMaxScaler\n",
    "from sklearn.model_selection import GridSearchCV\n",
    "import tensorflow as tf\n",
    "from scikeras.wrappers import KerasRegressor\n",
    "from sklearn.model_selection import RandomizedSearchCV\n",
    "\n"
   ]
  },
  {
   "cell_type": "code",
   "execution_count": 4,
   "metadata": {},
   "outputs": [
    {
     "data": {
      "text/html": [
       "<div>\n",
       "<style scoped>\n",
       "    .dataframe tbody tr th:only-of-type {\n",
       "        vertical-align: middle;\n",
       "    }\n",
       "\n",
       "    .dataframe tbody tr th {\n",
       "        vertical-align: top;\n",
       "    }\n",
       "\n",
       "    .dataframe thead th {\n",
       "        text-align: right;\n",
       "    }\n",
       "</style>\n",
       "<table border=\"1\" class=\"dataframe\">\n",
       "  <thead>\n",
       "    <tr style=\"text-align: right;\">\n",
       "      <th></th>\n",
       "      <th>Months_active</th>\n",
       "      <th>Distance_from_work</th>\n",
       "      <th>Age</th>\n",
       "      <th>Disciplined</th>\n",
       "      <th>Children</th>\n",
       "      <th>Social_drinker</th>\n",
       "      <th>Social_smoker</th>\n",
       "      <th>Pets</th>\n",
       "      <th>Weight</th>\n",
       "      <th>Height</th>\n",
       "      <th>BMI</th>\n",
       "      <th>Absent_hours</th>\n",
       "    </tr>\n",
       "  </thead>\n",
       "  <tbody>\n",
       "    <tr>\n",
       "      <th>0</th>\n",
       "      <td>10</td>\n",
       "      <td>2.36</td>\n",
       "      <td>37</td>\n",
       "      <td>no</td>\n",
       "      <td>0</td>\n",
       "      <td>no</td>\n",
       "      <td>no</td>\n",
       "      <td>0</td>\n",
       "      <td>83</td>\n",
       "      <td>172</td>\n",
       "      <td>28</td>\n",
       "      <td>8</td>\n",
       "    </tr>\n",
       "    <tr>\n",
       "      <th>1</th>\n",
       "      <td>3</td>\n",
       "      <td>7.22</td>\n",
       "      <td>28</td>\n",
       "      <td>no</td>\n",
       "      <td>1</td>\n",
       "      <td>yes</td>\n",
       "      <td>no</td>\n",
       "      <td>4</td>\n",
       "      <td>80</td>\n",
       "      <td>172</td>\n",
       "      <td>27</td>\n",
       "      <td>8</td>\n",
       "    </tr>\n",
       "    <tr>\n",
       "      <th>2</th>\n",
       "      <td>12</td>\n",
       "      <td>5.82</td>\n",
       "      <td>40</td>\n",
       "      <td>no</td>\n",
       "      <td>1</td>\n",
       "      <td>yes</td>\n",
       "      <td>no</td>\n",
       "      <td>1</td>\n",
       "      <td>73</td>\n",
       "      <td>171</td>\n",
       "      <td>25</td>\n",
       "      <td>8</td>\n",
       "    </tr>\n",
       "    <tr>\n",
       "      <th>3</th>\n",
       "      <td>14</td>\n",
       "      <td>4.96</td>\n",
       "      <td>47</td>\n",
       "      <td>no</td>\n",
       "      <td>2</td>\n",
       "      <td>no</td>\n",
       "      <td>no</td>\n",
       "      <td>1</td>\n",
       "      <td>86</td>\n",
       "      <td>165</td>\n",
       "      <td>32</td>\n",
       "      <td>1</td>\n",
       "    </tr>\n",
       "    <tr>\n",
       "      <th>4</th>\n",
       "      <td>14</td>\n",
       "      <td>4.96</td>\n",
       "      <td>47</td>\n",
       "      <td>no</td>\n",
       "      <td>2</td>\n",
       "      <td>no</td>\n",
       "      <td>no</td>\n",
       "      <td>1</td>\n",
       "      <td>86</td>\n",
       "      <td>165</td>\n",
       "      <td>32</td>\n",
       "      <td>2</td>\n",
       "    </tr>\n",
       "  </tbody>\n",
       "</table>\n",
       "</div>"
      ],
      "text/plain": [
       "   Months_active  Distance_from_work  Age Disciplined  Children  \\\n",
       "0             10                2.36   37          no         0   \n",
       "1              3                7.22   28          no         1   \n",
       "2             12                5.82   40          no         1   \n",
       "3             14                4.96   47          no         2   \n",
       "4             14                4.96   47          no         2   \n",
       "\n",
       "  Social_drinker Social_smoker  Pets  Weight  Height  BMI  Absent_hours  \n",
       "0             no            no     0      83     172   28             8  \n",
       "1            yes            no     4      80     172   27             8  \n",
       "2            yes            no     1      73     171   25             8  \n",
       "3             no            no     1      86     165   32             1  \n",
       "4             no            no     1      86     165   32             2  "
      ]
     },
     "execution_count": 4,
     "metadata": {},
     "output_type": "execute_result"
    }
   ],
   "source": [
    "df = pd.read_csv('1641405turnover.csv')\n",
    "df.head()"
   ]
  },
  {
   "cell_type": "code",
   "execution_count": 5,
   "metadata": {},
   "outputs": [
    {
     "name": "stdout",
     "output_type": "stream",
     "text": [
      "['no' 'yes']\n"
     ]
    }
   ],
   "source": [
    "unique_values = df['Disciplined'].unique()\n",
    "print(unique_values)"
   ]
  },
  {
   "cell_type": "code",
   "execution_count": 6,
   "metadata": {},
   "outputs": [
    {
     "data": {
      "text/html": [
       "<div>\n",
       "<style scoped>\n",
       "    .dataframe tbody tr th:only-of-type {\n",
       "        vertical-align: middle;\n",
       "    }\n",
       "\n",
       "    .dataframe tbody tr th {\n",
       "        vertical-align: top;\n",
       "    }\n",
       "\n",
       "    .dataframe thead th {\n",
       "        text-align: right;\n",
       "    }\n",
       "</style>\n",
       "<table border=\"1\" class=\"dataframe\">\n",
       "  <thead>\n",
       "    <tr style=\"text-align: right;\">\n",
       "      <th></th>\n",
       "      <th>Months_active</th>\n",
       "      <th>Distance_from_work</th>\n",
       "      <th>Age</th>\n",
       "      <th>Disciplined</th>\n",
       "      <th>Children</th>\n",
       "      <th>Social_drinker</th>\n",
       "      <th>Social_smoker</th>\n",
       "      <th>Pets</th>\n",
       "      <th>Weight</th>\n",
       "      <th>Height</th>\n",
       "      <th>BMI</th>\n",
       "      <th>Absent_hours</th>\n",
       "    </tr>\n",
       "  </thead>\n",
       "  <tbody>\n",
       "    <tr>\n",
       "      <th>0</th>\n",
       "      <td>10</td>\n",
       "      <td>2.36</td>\n",
       "      <td>37</td>\n",
       "      <td>no</td>\n",
       "      <td>0</td>\n",
       "      <td>no</td>\n",
       "      <td>no</td>\n",
       "      <td>0</td>\n",
       "      <td>83</td>\n",
       "      <td>172</td>\n",
       "      <td>28</td>\n",
       "      <td>8</td>\n",
       "    </tr>\n",
       "    <tr>\n",
       "      <th>1</th>\n",
       "      <td>3</td>\n",
       "      <td>7.22</td>\n",
       "      <td>28</td>\n",
       "      <td>no</td>\n",
       "      <td>1</td>\n",
       "      <td>yes</td>\n",
       "      <td>no</td>\n",
       "      <td>4</td>\n",
       "      <td>80</td>\n",
       "      <td>172</td>\n",
       "      <td>27</td>\n",
       "      <td>8</td>\n",
       "    </tr>\n",
       "    <tr>\n",
       "      <th>2</th>\n",
       "      <td>12</td>\n",
       "      <td>5.82</td>\n",
       "      <td>40</td>\n",
       "      <td>no</td>\n",
       "      <td>1</td>\n",
       "      <td>yes</td>\n",
       "      <td>no</td>\n",
       "      <td>1</td>\n",
       "      <td>73</td>\n",
       "      <td>171</td>\n",
       "      <td>25</td>\n",
       "      <td>8</td>\n",
       "    </tr>\n",
       "    <tr>\n",
       "      <th>3</th>\n",
       "      <td>14</td>\n",
       "      <td>4.96</td>\n",
       "      <td>47</td>\n",
       "      <td>no</td>\n",
       "      <td>2</td>\n",
       "      <td>no</td>\n",
       "      <td>no</td>\n",
       "      <td>1</td>\n",
       "      <td>86</td>\n",
       "      <td>165</td>\n",
       "      <td>32</td>\n",
       "      <td>1</td>\n",
       "    </tr>\n",
       "    <tr>\n",
       "      <th>4</th>\n",
       "      <td>14</td>\n",
       "      <td>4.96</td>\n",
       "      <td>47</td>\n",
       "      <td>no</td>\n",
       "      <td>2</td>\n",
       "      <td>no</td>\n",
       "      <td>no</td>\n",
       "      <td>1</td>\n",
       "      <td>86</td>\n",
       "      <td>165</td>\n",
       "      <td>32</td>\n",
       "      <td>2</td>\n",
       "    </tr>\n",
       "  </tbody>\n",
       "</table>\n",
       "</div>"
      ],
      "text/plain": [
       "   Months_active  Distance_from_work  Age Disciplined  Children  \\\n",
       "0             10                2.36   37          no         0   \n",
       "1              3                7.22   28          no         1   \n",
       "2             12                5.82   40          no         1   \n",
       "3             14                4.96   47          no         2   \n",
       "4             14                4.96   47          no         2   \n",
       "\n",
       "  Social_drinker Social_smoker  Pets  Weight  Height  BMI  Absent_hours  \n",
       "0             no            no     0      83     172   28             8  \n",
       "1            yes            no     4      80     172   27             8  \n",
       "2            yes            no     1      73     171   25             8  \n",
       "3             no            no     1      86     165   32             1  \n",
       "4             no            no     1      86     165   32             2  "
      ]
     },
     "execution_count": 6,
     "metadata": {},
     "output_type": "execute_result"
    }
   ],
   "source": [
    "# Creating a copy of Original Dataframe to avoid modifying the Original data\n",
    "df_copy = df.copy()\n",
    "df_copy.head()"
   ]
  },
  {
   "cell_type": "code",
   "execution_count": 7,
   "metadata": {},
   "outputs": [
    {
     "data": {
      "text/html": [
       "<div>\n",
       "<style scoped>\n",
       "    .dataframe tbody tr th:only-of-type {\n",
       "        vertical-align: middle;\n",
       "    }\n",
       "\n",
       "    .dataframe tbody tr th {\n",
       "        vertical-align: top;\n",
       "    }\n",
       "\n",
       "    .dataframe thead th {\n",
       "        text-align: right;\n",
       "    }\n",
       "</style>\n",
       "<table border=\"1\" class=\"dataframe\">\n",
       "  <thead>\n",
       "    <tr style=\"text-align: right;\">\n",
       "      <th></th>\n",
       "      <th>Social_drinker_no</th>\n",
       "      <th>Social_drinker_yes</th>\n",
       "      <th>Social_smoker_no</th>\n",
       "      <th>Social_smoker_yes</th>\n",
       "      <th>Disciplined_no</th>\n",
       "      <th>Disciplined_yes</th>\n",
       "    </tr>\n",
       "  </thead>\n",
       "  <tbody>\n",
       "    <tr>\n",
       "      <th>0</th>\n",
       "      <td>1</td>\n",
       "      <td>0</td>\n",
       "      <td>1</td>\n",
       "      <td>0</td>\n",
       "      <td>1</td>\n",
       "      <td>0</td>\n",
       "    </tr>\n",
       "    <tr>\n",
       "      <th>1</th>\n",
       "      <td>0</td>\n",
       "      <td>1</td>\n",
       "      <td>1</td>\n",
       "      <td>0</td>\n",
       "      <td>1</td>\n",
       "      <td>0</td>\n",
       "    </tr>\n",
       "    <tr>\n",
       "      <th>2</th>\n",
       "      <td>0</td>\n",
       "      <td>1</td>\n",
       "      <td>1</td>\n",
       "      <td>0</td>\n",
       "      <td>1</td>\n",
       "      <td>0</td>\n",
       "    </tr>\n",
       "    <tr>\n",
       "      <th>3</th>\n",
       "      <td>1</td>\n",
       "      <td>0</td>\n",
       "      <td>1</td>\n",
       "      <td>0</td>\n",
       "      <td>1</td>\n",
       "      <td>0</td>\n",
       "    </tr>\n",
       "    <tr>\n",
       "      <th>4</th>\n",
       "      <td>1</td>\n",
       "      <td>0</td>\n",
       "      <td>1</td>\n",
       "      <td>0</td>\n",
       "      <td>1</td>\n",
       "      <td>0</td>\n",
       "    </tr>\n",
       "  </tbody>\n",
       "</table>\n",
       "</div>"
      ],
      "text/plain": [
       "   Social_drinker_no  Social_drinker_yes  Social_smoker_no  Social_smoker_yes  \\\n",
       "0                  1                   0                 1                  0   \n",
       "1                  0                   1                 1                  0   \n",
       "2                  0                   1                 1                  0   \n",
       "3                  1                   0                 1                  0   \n",
       "4                  1                   0                 1                  0   \n",
       "\n",
       "   Disciplined_no  Disciplined_yes  \n",
       "0               1                0  \n",
       "1               1                0  \n",
       "2               1                0  \n",
       "3               1                0  \n",
       "4               1                0  "
      ]
     },
     "execution_count": 7,
     "metadata": {},
     "output_type": "execute_result"
    }
   ],
   "source": [
    "# Getting dummies of the categorical columns\n",
    "df_dummies = pd.get_dummies(df_copy[['Social_drinker', 'Social_smoker','Disciplined']]).astype(int)\n",
    "df_dummies.head()"
   ]
  },
  {
   "cell_type": "code",
   "execution_count": 8,
   "metadata": {},
   "outputs": [
    {
     "data": {
      "text/html": [
       "<div>\n",
       "<style scoped>\n",
       "    .dataframe tbody tr th:only-of-type {\n",
       "        vertical-align: middle;\n",
       "    }\n",
       "\n",
       "    .dataframe tbody tr th {\n",
       "        vertical-align: top;\n",
       "    }\n",
       "\n",
       "    .dataframe thead th {\n",
       "        text-align: right;\n",
       "    }\n",
       "</style>\n",
       "<table border=\"1\" class=\"dataframe\">\n",
       "  <thead>\n",
       "    <tr style=\"text-align: right;\">\n",
       "      <th></th>\n",
       "      <th>Months_active</th>\n",
       "      <th>Distance_from_work</th>\n",
       "      <th>Age</th>\n",
       "      <th>Disciplined</th>\n",
       "      <th>Children</th>\n",
       "      <th>Social_drinker</th>\n",
       "      <th>Social_smoker</th>\n",
       "      <th>Pets</th>\n",
       "      <th>Weight</th>\n",
       "      <th>Height</th>\n",
       "      <th>BMI</th>\n",
       "      <th>Absent_hours</th>\n",
       "      <th>Social_drinker_no</th>\n",
       "      <th>Social_drinker_yes</th>\n",
       "      <th>Social_smoker_no</th>\n",
       "      <th>Social_smoker_yes</th>\n",
       "      <th>Disciplined_no</th>\n",
       "      <th>Disciplined_yes</th>\n",
       "    </tr>\n",
       "  </thead>\n",
       "  <tbody>\n",
       "    <tr>\n",
       "      <th>0</th>\n",
       "      <td>10</td>\n",
       "      <td>2.36</td>\n",
       "      <td>37</td>\n",
       "      <td>no</td>\n",
       "      <td>0</td>\n",
       "      <td>no</td>\n",
       "      <td>no</td>\n",
       "      <td>0</td>\n",
       "      <td>83</td>\n",
       "      <td>172</td>\n",
       "      <td>28</td>\n",
       "      <td>8</td>\n",
       "      <td>1</td>\n",
       "      <td>0</td>\n",
       "      <td>1</td>\n",
       "      <td>0</td>\n",
       "      <td>1</td>\n",
       "      <td>0</td>\n",
       "    </tr>\n",
       "    <tr>\n",
       "      <th>1</th>\n",
       "      <td>3</td>\n",
       "      <td>7.22</td>\n",
       "      <td>28</td>\n",
       "      <td>no</td>\n",
       "      <td>1</td>\n",
       "      <td>yes</td>\n",
       "      <td>no</td>\n",
       "      <td>4</td>\n",
       "      <td>80</td>\n",
       "      <td>172</td>\n",
       "      <td>27</td>\n",
       "      <td>8</td>\n",
       "      <td>0</td>\n",
       "      <td>1</td>\n",
       "      <td>1</td>\n",
       "      <td>0</td>\n",
       "      <td>1</td>\n",
       "      <td>0</td>\n",
       "    </tr>\n",
       "    <tr>\n",
       "      <th>2</th>\n",
       "      <td>12</td>\n",
       "      <td>5.82</td>\n",
       "      <td>40</td>\n",
       "      <td>no</td>\n",
       "      <td>1</td>\n",
       "      <td>yes</td>\n",
       "      <td>no</td>\n",
       "      <td>1</td>\n",
       "      <td>73</td>\n",
       "      <td>171</td>\n",
       "      <td>25</td>\n",
       "      <td>8</td>\n",
       "      <td>0</td>\n",
       "      <td>1</td>\n",
       "      <td>1</td>\n",
       "      <td>0</td>\n",
       "      <td>1</td>\n",
       "      <td>0</td>\n",
       "    </tr>\n",
       "    <tr>\n",
       "      <th>3</th>\n",
       "      <td>14</td>\n",
       "      <td>4.96</td>\n",
       "      <td>47</td>\n",
       "      <td>no</td>\n",
       "      <td>2</td>\n",
       "      <td>no</td>\n",
       "      <td>no</td>\n",
       "      <td>1</td>\n",
       "      <td>86</td>\n",
       "      <td>165</td>\n",
       "      <td>32</td>\n",
       "      <td>1</td>\n",
       "      <td>1</td>\n",
       "      <td>0</td>\n",
       "      <td>1</td>\n",
       "      <td>0</td>\n",
       "      <td>1</td>\n",
       "      <td>0</td>\n",
       "    </tr>\n",
       "    <tr>\n",
       "      <th>4</th>\n",
       "      <td>14</td>\n",
       "      <td>4.96</td>\n",
       "      <td>47</td>\n",
       "      <td>no</td>\n",
       "      <td>2</td>\n",
       "      <td>no</td>\n",
       "      <td>no</td>\n",
       "      <td>1</td>\n",
       "      <td>86</td>\n",
       "      <td>165</td>\n",
       "      <td>32</td>\n",
       "      <td>2</td>\n",
       "      <td>1</td>\n",
       "      <td>0</td>\n",
       "      <td>1</td>\n",
       "      <td>0</td>\n",
       "      <td>1</td>\n",
       "      <td>0</td>\n",
       "    </tr>\n",
       "  </tbody>\n",
       "</table>\n",
       "</div>"
      ],
      "text/plain": [
       "   Months_active  Distance_from_work  Age Disciplined  Children  \\\n",
       "0             10                2.36   37          no         0   \n",
       "1              3                7.22   28          no         1   \n",
       "2             12                5.82   40          no         1   \n",
       "3             14                4.96   47          no         2   \n",
       "4             14                4.96   47          no         2   \n",
       "\n",
       "  Social_drinker Social_smoker  Pets  Weight  Height  BMI  Absent_hours  \\\n",
       "0             no            no     0      83     172   28             8   \n",
       "1            yes            no     4      80     172   27             8   \n",
       "2            yes            no     1      73     171   25             8   \n",
       "3             no            no     1      86     165   32             1   \n",
       "4             no            no     1      86     165   32             2   \n",
       "\n",
       "   Social_drinker_no  Social_drinker_yes  Social_smoker_no  Social_smoker_yes  \\\n",
       "0                  1                   0                 1                  0   \n",
       "1                  0                   1                 1                  0   \n",
       "2                  0                   1                 1                  0   \n",
       "3                  1                   0                 1                  0   \n",
       "4                  1                   0                 1                  0   \n",
       "\n",
       "   Disciplined_no  Disciplined_yes  \n",
       "0               1                0  \n",
       "1               1                0  \n",
       "2               1                0  \n",
       "3               1                0  \n",
       "4               1                0  "
      ]
     },
     "execution_count": 8,
     "metadata": {},
     "output_type": "execute_result"
    }
   ],
   "source": [
    "#combining the dummies with the dataframe\n",
    "df_copy = pd.concat([df_copy,df_dummies], axis=1)\n",
    "df_copy.head()"
   ]
  },
  {
   "cell_type": "code",
   "execution_count": 9,
   "metadata": {},
   "outputs": [],
   "source": [
    "# Independent Variable columns \n",
    "Months_active = df_copy['Months_active']\n",
    "Distance_from_work = df_copy['Distance_from_work']\n",
    "Age = df_copy['Age']\n",
    "Children = df_copy['Children']"
   ]
  },
  {
   "cell_type": "code",
   "execution_count": 10,
   "metadata": {},
   "outputs": [
    {
     "name": "stdout",
     "output_type": "stream",
     "text": [
      "                    Months_active  Distance_from_work       Age  Children\n",
      "Months_active            1.000000           -0.381367  0.669429 -0.052922\n",
      "Distance_from_work      -0.381367            1.000000 -0.254506  0.387894\n",
      "Age                      0.669429           -0.254506  1.000000  0.055206\n",
      "Children                -0.052922            0.387894  0.055206  1.000000\n"
     ]
    },
    {
     "data": {
      "text/plain": [
       "<Axes: >"
      ]
     },
     "execution_count": 10,
     "metadata": {},
     "output_type": "execute_result"
    },
    {
     "data": {
      "image/png": "[encoded data removed]",
      "text/plain": [
       "<Figure size 640x480 with 2 Axes>"
      ]
     },
     "metadata": {},
     "output_type": "display_data"
    }
   ],
   "source": [
    "# Analysing the correlation between the variables Months_active, Distance_from_work, Age, and Children\n",
    "# Correlation Heatmap\n",
    "data = df_copy[['Months_active','Distance_from_work','Age','Children']]\n",
    "matrix = data.corr()\n",
    "print(matrix)\n",
    "sns.heatmap(matrix, annot=True)"
   ]
  },
  {
   "cell_type": "code",
   "execution_count": 11,
   "metadata": {},
   "outputs": [
    {
     "data": {
      "text/plain": [
       "<seaborn.axisgrid.PairGrid at 0x238f50e6540>"
      ]
     },
     "execution_count": 11,
     "metadata": {},
     "output_type": "execute_result"
    },
    {
     "data": {
      "image/png": "[encoded data removed]",
      "text/plain": [
       "<Figure size 1000x1000 with 20 Axes>"
      ]
     },
     "metadata": {},
     "output_type": "display_data"
    }
   ],
   "source": [
    "sns.pairplot(df_copy[['Months_active', 'Distance_from_work', 'Age', 'Children']])"
   ]
  },
  {
   "cell_type": "code",
   "execution_count": 12,
   "metadata": {},
   "outputs": [
    {
     "data": {
      "image/png": "[encoded data removed]",
      "text/plain": [
       "<Figure size 640x480 with 1 Axes>"
      ]
     },
     "metadata": {},
     "output_type": "display_data"
    },
    {
     "data": {
      "text/plain": [
       "PearsonRResult(statistic=-0.38136677898720495, pvalue=1.7539792027849166e-24)"
      ]
     },
     "execution_count": 12,
     "metadata": {},
     "output_type": "execute_result"
    }
   ],
   "source": [
    "# Corelation between months active and distance from work \n",
    "plt.scatter(Distance_from_work,Months_active)\n",
    "plt.xlabel('Distance from work')\n",
    "plt.ylabel('Months active')\n",
    "plt.title(' Distance from work vs Months Active')\n",
    "plt.show()\n",
    "scipy.stats.pearsonr(Distance_from_work,Months_active)"
   ]
  },
  {
   "cell_type": "markdown",
   "metadata": {},
   "source": [
    "There’s a **weak to moderate negative linear relationship** between the two variables distance from work and Months active.\n",
    "The corelation between distance from work and Months active has a **p-value of 1.753979202784894e-24** which is extremely low so the negative correlation is **highly significant**"
   ]
  },
  {
   "cell_type": "code",
   "execution_count": 13,
   "metadata": {},
   "outputs": [
    {
     "data": {
      "image/png": "[encoded data removed]",
      "text/plain": [
       "<Figure size 640x480 with 1 Axes>"
      ]
     },
     "metadata": {},
     "output_type": "display_data"
    },
    {
     "data": {
      "text/plain": [
       "PearsonRResult(statistic=0.6694285523556978, pvalue=8.970229527608187e-88)"
      ]
     },
     "execution_count": 13,
     "metadata": {},
     "output_type": "execute_result"
    }
   ],
   "source": [
    "# Corelation between Age and Months active\n",
    "plt.scatter(Age,Months_active)\n",
    "plt.xlabel('Age')\n",
    "plt.ylabel('Months active')\n",
    "plt.title(' Age vs Months Active')\n",
    "plt.show()\n",
    "scipy.stats.pearsonr(Age,Months_active)"
   ]
  },
  {
   "cell_type": "code",
   "execution_count": 14,
   "metadata": {},
   "outputs": [
    {
     "data": {
      "image/png": "[encoded data removed]",
      "text/plain": [
       "<Figure size 640x480 with 1 Axes>"
      ]
     },
     "metadata": {},
     "output_type": "display_data"
    },
    {
     "data": {
      "text/plain": [
       "PearsonRResult(statistic=-0.052921625192836975, pvalue=0.1725242688443075)"
      ]
     },
     "execution_count": 14,
     "metadata": {},
     "output_type": "execute_result"
    }
   ],
   "source": [
    "# Correlation between Children and Months active \n",
    "plt.scatter(Children,Months_active)\n",
    "plt.xlabel('Children')\n",
    "plt.ylabel('Months_active')\n",
    "plt.title('Children Vs months active')\n",
    "plt.show()\n",
    "scipy.stats.pearsonr(Children,Months_active)"
   ]
  },
  {
   "cell_type": "markdown",
   "metadata": {},
   "source": [
    "There seems to be no corelation between Children and months active. The p-value of 0.1725 is greater than 0.05 which  means the result is not statistically significant"
   ]
  },
  {
   "cell_type": "markdown",
   "metadata": {},
   "source": [
    "# Assignment 2"
   ]
  },
  {
   "cell_type": "code",
   "execution_count": 15,
   "metadata": {},
   "outputs": [
    {
     "name": "stdout",
     "output_type": "stream",
     "text": [
      "                            OLS Regression Results                            \n",
      "==============================================================================\n",
      "Dep. Variable:          Months_active   R-squared:                       0.496\n",
      "Model:                            OLS   Adj. R-squared:                  0.493\n",
      "Method:                 Least Squares   F-statistic:                     216.9\n",
      "Date:                Sat, 22 Mar 2025   Prob (F-statistic):           5.50e-98\n",
      "Time:                        15:30:24   Log-Likelihood:                -1699.5\n",
      "No. Observations:                 666   AIC:                             3407.\n",
      "Df Residuals:                     662   BIC:                             3425.\n",
      "Df Model:                           3                                         \n",
      "Covariance Type:            nonrobust                                         \n",
      "======================================================================================\n",
      "                         coef    std err          t      P>|t|      [0.025      0.975]\n",
      "--------------------------------------------------------------------------------------\n",
      "Intercept              0.6227      0.928      0.671      0.502      -1.199       2.444\n",
      "Distance_from_work    -0.7298      0.101     -7.201      0.000      -0.929      -0.531\n",
      "Age                    0.4142      0.020     21.117      0.000       0.376       0.453\n",
      "Children               0.0038      0.119      0.032      0.974      -0.231       0.238\n",
      "==============================================================================\n",
      "Omnibus:                        2.551   Durbin-Watson:                   2.075\n",
      "Prob(Omnibus):                  0.279   Jarque-Bera (JB):                2.625\n",
      "Skew:                           0.050   Prob(JB):                        0.269\n",
      "Kurtosis:                       3.291   Cond. No.                         288.\n",
      "==============================================================================\n",
      "\n",
      "Notes:\n",
      "[1] Standard Errors assume that the covariance matrix of the errors is correctly specified.\n"
     ]
    }
   ],
   "source": [
    "# regression model  predicting Months_active using  the other independent  variables : Distance_from_work, Age, and Children\n",
    "\n",
    "\n",
    "model1 = smf.ols('Months_active ~ Distance_from_work + Age + Children ', data = df_copy).fit()\n",
    "\n",
    "print(model1.summary())"
   ]
  },
  {
   "cell_type": "code",
   "execution_count": 16,
   "metadata": {},
   "outputs": [],
   "source": [
    "# p>t is the p value column\n",
    "# The R-squared value is 0.496 this means that 49.6% of the total variance in Months active can be explained by a combination\n",
    "# distance from work , age and children. So 51.4% has to be because of other factor."
   ]
  },
  {
   "cell_type": "code",
   "execution_count": 17,
   "metadata": {},
   "outputs": [
    {
     "name": "stdout",
     "output_type": "stream",
     "text": [
      "             variable        VIF\n",
      "0               const  59.099371\n",
      "1  Distance_from_work   1.293370\n",
      "2                 Age   1.102126\n",
      "3            Children   1.213292\n"
     ]
    }
   ],
   "source": [
    "#VIF\n",
    "from statsmodels.stats.outliers_influence import variance_inflation_factor as vif #import the VIF function\n",
    "from statsmodels.tools.tools import add_constant #import the add_constant function\n",
    "\n",
    "X = df_copy[['Distance_from_work', 'Age', 'Children']].dropna() #select the relevant variables and delete missing values\n",
    "X = add_constant(X) #add a constant to the variables. VIF WON'T WORK CORRECTLY IF YOU DON'T DO THIS\n",
    "\n",
    "#Creating  a dataframe that contains the VIF values\n",
    "VIF_data = pd.DataFrame() \n",
    "VIF_data[\"variable\"] = X.columns \n",
    "VIF_data[\"VIF\"] = [vif(X,i) \n",
    "                   for i in range(len(X.columns))] \n",
    "print(VIF_data) "
   ]
  },
  {
   "cell_type": "markdown",
   "metadata": {},
   "source": [
    "# APA Table "
   ]
  },
  {
   "cell_type": "code",
   "execution_count": 18,
   "metadata": {},
   "outputs": [
    {
     "data": {
      "text/html": [
       "<table style=\"text-align:center\"><tr><td colspan=\"2\" style=\"border-bottom: 1px solid black\"></td></tr>\n",
       "<tr><td style=\"text-align:left\"></td><td colspan=\"1\"><em>Dependent variable: Months_active</em></td></tr><tr><td style=\"text-align:left\"></td><tr><td style=\"text-align:left\"></td><td>(1)</td></tr>\n",
       "<tr><td colspan=\"2\" style=\"border-bottom: 1px solid black\"></td></tr>\n",
       "\n",
       "<tr><td style=\"text-align:left\">Age</td><td>0.414<sup>***</sup></td></tr>\n",
       "<tr><td style=\"text-align:left\"></td><td>(0.020)</td></tr>\n",
       "<tr><td style=\"text-align:left\">Children</td><td>0.004<sup></sup></td></tr>\n",
       "<tr><td style=\"text-align:left\"></td><td>(0.119)</td></tr>\n",
       "<tr><td style=\"text-align:left\">Distance_from_work</td><td>-0.730<sup>***</sup></td></tr>\n",
       "<tr><td style=\"text-align:left\"></td><td>(0.101)</td></tr>\n",
       "<tr><td style=\"text-align:left\">Intercept</td><td>0.623<sup></sup></td></tr>\n",
       "<tr><td style=\"text-align:left\"></td><td>(0.928)</td></tr>\n",
       "\n",
       "<td colspan=\"2\" style=\"border-bottom: 1px solid black\"></td></tr>\n",
       "<tr><td style=\"text-align: left\">Observations</td><td>666</td></tr><tr><td style=\"text-align: left\">R<sup>2</sup></td><td>0.496</td></tr><tr><td style=\"text-align: left\">Adjusted R<sup>2</sup></td><td>0.493</td></tr><tr><td style=\"text-align: left\">Residual Std. Error</td><td>3.114 (df=662)</td></tr><tr><td style=\"text-align: left\">F Statistic</td><td>216.936<sup>***</sup> (df=3; 662)</td></tr>\n",
       "<tr><td colspan=\"2\" style=\"border-bottom: 1px solid black\"></td></tr><tr><td style=\"text-align: left\">Note:</td><td colspan=\"1\" style=\"text-align: right\"><sup>*</sup>p&lt;0.1; <sup>**</sup>p&lt;0.05; <sup>***</sup>p&lt;0.01</td></tr></table>"
      ],
      "text/plain": [
       "<IPython.core.display.HTML object>"
      ]
     },
     "execution_count": 18,
     "metadata": {},
     "output_type": "execute_result"
    }
   ],
   "source": [
    "table = Stargazer([model1])\n",
    "HTML(table.render_html())"
   ]
  },
  {
   "cell_type": "markdown",
   "metadata": {},
   "source": [
    "# Assignment 3 "
   ]
  },
  {
   "cell_type": "markdown",
   "metadata": {},
   "source": [
    "In trying to understand what influences how long employees stay with the company, the management believes some of these factors could be the main influence :  **Distance_from_work**, **Age**, **Children**\n",
    "In order words they are the variables which we believe have an impact on months active "
   ]
  },
  {
   "cell_type": "markdown",
   "metadata": {},
   "source": [
    "**Distance_from_work** :\n",
    "This variable measures how far employees live from the workplace. According to our analysis, there is an inverse relationship between commuting distance and the number of months employees remain active. In other words, the further employees live from work, the shorter their time with the company tends to be. This suggests that longer commutes may contribute to higher turnover."
   ]
  },
  {
   "cell_type": "markdown",
   "metadata": {},
   "source": [
    "**Age**:\n",
    "According to the model the older an employee the more likely they are to stay longer with the company. This positive relation between age and months active could be due to the older employees seeking greater job stability or having fewer outside opportunities."
   ]
  },
  {
   "cell_type": "markdown",
   "metadata": {},
   "source": [
    "**Children** : \n",
    "The goal here is to see if having kids influences how long an employee stays with the company. According to the model the number of children an employee has doesn’t have a noticeable impact on how long they stay with the company."
   ]
  },
  {
   "cell_type": "markdown",
   "metadata": {},
   "source": [
    "# Assignment 4"
   ]
  },
  {
   "cell_type": "code",
   "execution_count": 19,
   "metadata": {},
   "outputs": [],
   "source": [
    "#Prepare the data\n",
    "df = df_copy.dropna() #remove missings\n",
    "y = df_copy['Months_active'] #select Target\n",
    "X = df_copy.drop('Months_active',axis=1) #Select features\n",
    "X = pd.get_dummies(X, drop_first=True) #Turn Fuel_Type into dummy variables\n",
    "columns = X.columns #create index with column names (needed for last step)\n",
    "scaler = MinMaxScaler() #initiate the scaler\n",
    "X = scaler.fit_transform(X) #scale the data\n",
    "X = pd.DataFrame(X,columns=columns) #turn back into a dataframe"
   ]
  },
  {
   "cell_type": "code",
   "execution_count": null,
   "metadata": {},
   "outputs": [
    {
     "name": "stdout",
     "output_type": "stream",
     "text": [
      "Average Mean Absolute Deviation: 2.5597084994680666\n"
     ]
    }
   ],
   "source": [
    "# Importing LinearRegression\n",
    "from sklearn.linear_model import LinearRegression\n",
    "\n",
    "# Using df_copy as DataFrame and the target variable is 'Months_active'\n",
    "X = df_copy[['Distance_from_work', 'Age', 'Children']]  # Predictor variables\n",
    "y = df_copy['Months_active']  # Target variable\n",
    "\n",
    "# Initialize model and cross-validation setup\n",
    "from sklearn.model_selection import KFold\n",
    "model = LinearRegression()\n",
    "kf = KFold(n_splits=5, shuffle=True, random_state=42)\n",
    "\n",
    "mad_scores = []\n",
    "\n",
    "# Perform 5-fold cross-validation\n",
    "for train_index, test_index in kf.split(X):\n",
    "    X_train, X_test = X.iloc[train_index], X.iloc[test_index]\n",
    "    y_train, y_test = y.iloc[train_index], y.iloc[test_index]\n",
    "\n",
    "    # Fit model and predict\n",
    "    model.fit(X_train, y_train)\n",
    "    y_pred = model.predict(X_test)\n",
    "\n",
    "    # Calculate Mean Absolute Deviation for the fold\n",
    "    from sklearn.metrics import mean_absolute_error\n",
    "    mad = mean_absolute_error(y_test, y_pred)\n",
    "    mad_scores.append(mad)\n",
    "\n",
    "# Calculate average Mean Average Deviation across all folds\n",
    "average_mad = np.mean(mad_scores)\n",
    "print(f\"Average Mean Absolute Deviation: {average_mad}\")"
   ]
  },
  {
   "cell_type": "code",
   "execution_count": 21,
   "metadata": {},
   "outputs": [],
   "source": [
    "# Normalize the data\n",
    "from sklearn.discriminant_analysis import StandardScaler\n",
    "\n",
    "\n",
    "scaler = StandardScaler()\n",
    "X_normalized = scaler.fit_transform(X)"
   ]
  },
  {
   "cell_type": "code",
   "execution_count": 22,
   "metadata": {},
   "outputs": [],
   "source": [
    "#Ridge grid search\n",
    "#grid search with Ridge\n",
    "alpha_range = np.arange(start=1,stop=100,step=1) #define a range of 100 alpha values"
   ]
  },
  {
   "cell_type": "code",
   "execution_count": 23,
   "metadata": {},
   "outputs": [],
   "source": [
    "#define the aspects of the grid search\n",
    "cv = RepeatedKFold(n_splits=5) #define the cross validation\n",
    "param = {'alpha':alpha_range} #create a dictionary that contains the range of alpha values\n",
    "RidgeModel = Ridge() #define the model"
   ]
  },
  {
   "cell_type": "code",
   "execution_count": null,
   "metadata": {},
   "outputs": [
    {
     "name": "stdout",
     "output_type": "stream",
     "text": [
      "Best alpha:  99\n"
     ]
    }
   ],
   "source": [
    "#create the grid search\n",
    "RidgeM = GridSearchCV(RidgeModel, \n",
    "                      param_grid=param, #the alpha values we defined above\n",
    "                      scoring ='neg_mean_absolute_error', #use MAE as measure of fit\n",
    "                      cv=cv) #the cross validation we defined above\n",
    "RidgeM.fit(X,y)# Fit the random search model\n",
    "print(\"Best alpha: \", RidgeM.best_params_['alpha']) #print out the best parameter"
   ]
  },
  {
   "cell_type": "code",
   "execution_count": 25,
   "metadata": {},
   "outputs": [],
   "source": [
    "RidgeModel = Ridge(alpha=99)\n",
    "#Run the cross fold validation again (same as earlier)\n",
    "cv = RepeatedKFold(n_splits=5)\n",
    "scoresridge = cross_val_score(RidgeModel, X, y, scoring='neg_mean_absolute_error', cv=cv) "
   ]
  },
  {
   "cell_type": "code",
   "execution_count": 26,
   "metadata": {},
   "outputs": [
    {
     "name": "stdout",
     "output_type": "stream",
     "text": [
      "the average prediction error with ridge is: 3\n"
     ]
    }
   ],
   "source": [
    "ridgeMAE = mean(absolute(scoresridge)) #Calculate the overall mean absolute error\n",
    "print('the average prediction error with ridge is: %.0f' % ridgeMAE) #Print the result"
   ]
  },
  {
   "cell_type": "markdown",
   "metadata": {},
   "source": [
    "# Neural Network "
   ]
  },
  {
   "cell_type": "code",
   "execution_count": 27,
   "metadata": {},
   "outputs": [],
   "source": [
    "from tensorflow.keras.models import Sequential\n",
    "from tensorflow.keras.layers import Dense\n",
    "from tensorflow.keras.optimizers import Adam\n",
    "from sklearn.model_selection import KFold\n",
    "from sklearn.metrics import mean_absolute_error\n",
    "import numpy as np\n",
    "\n",
    "# Define the neural network model\n",
    "def create_model():\n",
    "    model = Sequential()\n",
    "    model.add(Dense(512, input_dim=X.shape[1], activation='relu'))  # Input layer\n",
    "    for _ in range(4):  # Add 4 more hidden layers\n",
    "        model.add(Dense(512, activation='relu'))\n",
    "    model.add(Dense(1))  # Output layer\n",
    "    model.compile(optimizer=Adam(), loss='mean_absolute_error', metrics=['mae'])\n",
    "    return model\n",
    "\n"
   ]
  },
  {
   "cell_type": "code",
   "execution_count": 28,
   "metadata": {},
   "outputs": [],
   "source": [
    "# Initialize cross-validation\n",
    "kf = KFold(n_splits=5, shuffle=True, random_state=42)\n",
    "mae_scores = []\n",
    "\n"
   ]
  },
  {
   "cell_type": "code",
   "execution_count": 29,
   "metadata": {},
   "outputs": [
    {
     "name": "stderr",
     "output_type": "stream",
     "text": [
      "c:\\Users\\hacky\\anaconda3\\Lib\\site-packages\\keras\\src\\layers\\core\\dense.py:87: UserWarning: Do not pass an `input_shape`/`input_dim` argument to a layer. When using Sequential models, prefer using an `Input(shape)` object as the first layer in the model instead.\n",
      "  super().__init__(activity_regularizer=activity_regularizer, **kwargs)\n"
     ]
    },
    {
     "name": "stdout",
     "output_type": "stream",
     "text": [
      "\u001b[1m5/5\u001b[0m \u001b[32m━━━━━━━━━━━━━━━━━━━━\u001b[0m\u001b[37m\u001b[0m \u001b[1m0s\u001b[0m 24ms/step\n"
     ]
    },
    {
     "name": "stderr",
     "output_type": "stream",
     "text": [
      "c:\\Users\\hacky\\anaconda3\\Lib\\site-packages\\keras\\src\\layers\\core\\dense.py:87: UserWarning: Do not pass an `input_shape`/`input_dim` argument to a layer. When using Sequential models, prefer using an `Input(shape)` object as the first layer in the model instead.\n",
      "  super().__init__(activity_regularizer=activity_regularizer, **kwargs)\n"
     ]
    },
    {
     "name": "stdout",
     "output_type": "stream",
     "text": [
      "\u001b[1m5/5\u001b[0m \u001b[32m━━━━━━━━━━━━━━━━━━━━\u001b[0m\u001b[37m\u001b[0m \u001b[1m0s\u001b[0m 23ms/step\n"
     ]
    },
    {
     "name": "stderr",
     "output_type": "stream",
     "text": [
      "c:\\Users\\hacky\\anaconda3\\Lib\\site-packages\\keras\\src\\layers\\core\\dense.py:87: UserWarning: Do not pass an `input_shape`/`input_dim` argument to a layer. When using Sequential models, prefer using an `Input(shape)` object as the first layer in the model instead.\n",
      "  super().__init__(activity_regularizer=activity_regularizer, **kwargs)\n"
     ]
    },
    {
     "name": "stdout",
     "output_type": "stream",
     "text": [
      "WARNING:tensorflow:5 out of the last 11 calls to <function TensorFlowTrainer.make_predict_function.<locals>.one_step_on_data_distributed at 0x00000238F66F63E0> triggered tf.function retracing. Tracing is expensive and the excessive number of tracings could be due to (1) creating @tf.function repeatedly in a loop, (2) passing tensors with different shapes, (3) passing Python objects instead of tensors. For (1), please define your @tf.function outside of the loop. For (2), @tf.function has reduce_retracing=True option that can avoid unnecessary retracing. For (3), please refer to https://www.tensorflow.org/guide/function#controlling_retracing and https://www.tensorflow.org/api_docs/python/tf/function for  more details.\n",
      "\u001b[1m1/5\u001b[0m \u001b[32m━━━━\u001b[0m\u001b[37m━━━━━━━━━━━━━━━━\u001b[0m \u001b[1m0s\u001b[0m 51ms/stepWARNING:tensorflow:5 out of the last 11 calls to <function TensorFlowTrainer.make_predict_function.<locals>.one_step_on_data_distributed at 0x00000238F66F63E0> triggered tf.function retracing. Tracing is expensive and the excessive number of tracings could be due to (1) creating @tf.function repeatedly in a loop, (2) passing tensors with different shapes, (3) passing Python objects instead of tensors. For (1), please define your @tf.function outside of the loop. For (2), @tf.function has reduce_retracing=True option that can avoid unnecessary retracing. For (3), please refer to https://www.tensorflow.org/guide/function#controlling_retracing and https://www.tensorflow.org/api_docs/python/tf/function for  more details.\n",
      "\u001b[1m5/5\u001b[0m \u001b[32m━━━━━━━━━━━━━━━━━━━━\u001b[0m\u001b[37m\u001b[0m \u001b[1m0s\u001b[0m 22ms/step\n"
     ]
    },
    {
     "name": "stderr",
     "output_type": "stream",
     "text": [
      "c:\\Users\\hacky\\anaconda3\\Lib\\site-packages\\keras\\src\\layers\\core\\dense.py:87: UserWarning: Do not pass an `input_shape`/`input_dim` argument to a layer. When using Sequential models, prefer using an `Input(shape)` object as the first layer in the model instead.\n",
      "  super().__init__(activity_regularizer=activity_regularizer, **kwargs)\n"
     ]
    },
    {
     "name": "stdout",
     "output_type": "stream",
     "text": [
      "\u001b[1m5/5\u001b[0m \u001b[32m━━━━━━━━━━━━━━━━━━━━\u001b[0m\u001b[37m\u001b[0m \u001b[1m0s\u001b[0m 18ms/step\n"
     ]
    },
    {
     "name": "stderr",
     "output_type": "stream",
     "text": [
      "c:\\Users\\hacky\\anaconda3\\Lib\\site-packages\\keras\\src\\layers\\core\\dense.py:87: UserWarning: Do not pass an `input_shape`/`input_dim` argument to a layer. When using Sequential models, prefer using an `Input(shape)` object as the first layer in the model instead.\n",
      "  super().__init__(activity_regularizer=activity_regularizer, **kwargs)\n"
     ]
    },
    {
     "name": "stdout",
     "output_type": "stream",
     "text": [
      "\u001b[1m5/5\u001b[0m \u001b[32m━━━━━━━━━━━━━━━━━━━━\u001b[0m\u001b[37m\u001b[0m \u001b[1m0s\u001b[0m 17ms/step\n"
     ]
    }
   ],
   "source": [
    "# Perform 5-fold cross-validation\n",
    "for train_index, test_index in kf.split(X):\n",
    "    X_train, X_test = X.iloc[train_index], X.iloc[test_index]\n",
    "    y_train, y_test = y.iloc[train_index], y.iloc[test_index]\n",
    "\n",
    "    # Create and train the model\n",
    "    model = create_model()\n",
    "    model.fit(X_train, y_train, epochs=100, batch_size=16, verbose=0)\n",
    "\n",
    "    # Predict and calculate MAE\n",
    "    y_pred = model.predict(X_test)\n",
    "    mae = mean_absolute_error(y_test, y_pred)\n",
    "    mae_scores.append(mae)\n"
   ]
  },
  {
   "cell_type": "code",
   "execution_count": 30,
   "metadata": {},
   "outputs": [
    {
     "name": "stdout",
     "output_type": "stream",
     "text": [
      "Average Mean Absolute Error (Neural Network): 0.6257461905479431\n",
      "Average Mean Absolute Error (Linear Regression): 2.5597084994680666\n"
     ]
    }
   ],
   "source": [
    "# Calculate the average MAE\n",
    "average_mae = np.mean(mae_scores)\n",
    "print(f\"Average Mean Absolute Error (Neural Network): {average_mae}\")\n",
    "\n",
    "# Compare with linear regression\n",
    "print(f\"Average Mean Absolute Error (Linear Regression): {average_mad}\")"
   ]
  }
 ],
 "metadata": {
  "kernelspec": {
   "display_name": "base",
   "language": "python",
   "name": "python3"
  },
  "language_info": {
   "codemirror_mode": {
    "name": "ipython",
    "version": 3
   },
   "file_extension": ".py",
   "mimetype": "text/x-python",
   "name": "python",
   "nbconvert_exporter": "python",
   "pygments_lexer": "ipython3",
   "version": "3.12.7"
  }
 },
 "nbformat": 4,
 "nbformat_minor": 2
}
